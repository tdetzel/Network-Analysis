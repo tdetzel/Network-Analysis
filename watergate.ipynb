{
 "cells": [
  {
   "cell_type": "code",
   "execution_count": 2,
   "metadata": {
    "collapsed": true
   },
   "outputs": [],
   "source": [
    "## get modules\n",
    "import networkx as nx\n",
    "import matplotlib.pyplot as plt"
   ]
  },
  {
   "cell_type": "code",
   "execution_count": 9,
   "metadata": {
    "collapsed": false
   },
   "outputs": [],
   "source": [
    "## create empty graph\n",
    "tg = nx.Graph()"
   ]
  },
  {
   "cell_type": "code",
   "execution_count": 4,
   "metadata": {
    "collapsed": false
   },
   "outputs": [],
   "source": [
    "## list of key Watergate players, for reference\n",
    "players = [\"Howard Baker\",\n",
    "\"Sam Ervin\",\n",
    "\"Peter Rodino\",\n",
    "\"President Nixon\", \n",
    "\"Robert Bork\",\n",
    "\"Charles Colson\",\n",
    "\"Bob Haldeman\", \n",
    "\"John Dean\",\n",
    "\"John Erlichman\", \n",
    "\"Alexander Haig\", \n",
    "\"Richard Kleindienst\",\n",
    "\"John Mitchell\",\n",
    "\"Elliot Richardson\",\n",
    "\"Rose Mary Woods\",\n",
    "\"Archibald Cox\",\n",
    "\"Leon Jawarski\",\n",
    "\"Egil Krogh Jr.\",\n",
    "\"E. Howard Hunt\",\n",
    "\"Bernard Barker\",\n",
    "\"Virgilio Gonzalez\",\n",
    "\"G. Gordon Liddy\",\n",
    "\"E. Rolando Martinez\",\n",
    "\"James McCord\",\n",
    "\"Frank Sturgis\",\n",
    "\"Herbert Kalmbach\",\n",
    "\"Carl Bernstein\",\n",
    "\"Bob Woodward\",\n",
    "\"Deep Throat\"]"
   ]
  },
  {
   "cell_type": "code",
   "execution_count": null,
   "metadata": {
    "collapsed": true
   },
   "outputs": [],
   "source": [
    "## add nodes and edges\n",
    "tg.add_edge(\"President Nixon\", \"Charles Colson\")\n",
    "tg.add_edge(\"President Nixon\", \"Bob Haldeman\")\n",
    "tg.add_edge(\"President Nixon\", \"John Mitchell\")\n",
    "tg.add_edge(\"Charles Colson\", \"President Nixon\")\n",
    "tg.add_edge(\"President Nixon\", \"Egil Krogh Jr.\")\n",
    "tg.add_edge(\"Egil Krogh Jr.\", \"G. Gordon Liddy\")\n",
    "tg.add_edge(\"James McCord\", \"G. Gordon Liddy\")\n",
    "tg.add_edge(\"Virgilio Gonzalez\", \"G. Gordon Liddy\")\n",
    "tg.add_edge(\"Frank Sturgis\", \"G. Gordon Liddy\")\n",
    "tg.add_edge(\"E. Rolando Martinez\", \"G. Gordon Liddy\")\n",
    "tg.add_edge(\"President Nixon\", \"Rose Mary Woods\")\n",
    "tg.add_edge(\"President Nixon\", \"E. Howard Hunt\")\n",
    "tg.add_edge(\"President Nixon\", \"Herbert Kamlbach\")\n",
    "tg.add_edge(\"Herbert Kalmbach\", \"President Nixon\")"
   ]
  },
  {
   "cell_type": "code",
   "execution_count": 6,
   "metadata": {
    "collapsed": false,
    "scrolled": true
   },
   "outputs": [
    {
     "data": {
      "text/plain": [
       "['Herbert Kamlbach',\n",
       " 'President Nixon',\n",
       " 'Rose Mary Woods',\n",
       " 'James McCord',\n",
       " 'E. Howard Hunt',\n",
       " 'Egil Krogh Jr.',\n",
       " 'E. Rolando Martinez',\n",
       " 'John Mitchell',\n",
       " 'Frank Sturgis',\n",
       " 'Herbert Kalmbach',\n",
       " 'Charles Colson',\n",
       " 'G. Gordon Liddy',\n",
       " 'Virgilio Gonzalez',\n",
       " 'Bob Haldeman']"
      ]
     },
     "execution_count": 6,
     "metadata": {},
     "output_type": "execute_result"
    }
   ],
   "source": [
    "## check nodes\n",
    "tg.nodes()"
   ]
  },
  {
   "cell_type": "code",
   "execution_count": null,
   "metadata": {
    "collapsed": false
   },
   "outputs": [],
   "source": [
    "## draw the basic plot using default layout\n",
    "nx.draw(tg, with_labels=True)\n",
    "plt.show()"
   ]
  }
 ],
 "metadata": {
  "anaconda-cloud": {},
  "kernelspec": {
   "display_name": "Python [Root]",
   "language": "python",
   "name": "Python [Root]"
  },
  "language_info": {
   "codemirror_mode": {
    "name": "ipython",
    "version": 2
   },
   "file_extension": ".py",
   "mimetype": "text/x-python",
   "name": "python",
   "nbconvert_exporter": "python",
   "pygments_lexer": "ipython2",
   "version": "2.7.12"
  }
 },
 "nbformat": 4,
 "nbformat_minor": 0
}
